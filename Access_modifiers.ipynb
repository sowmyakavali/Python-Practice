{
  "nbformat": 4,
  "nbformat_minor": 0,
  "metadata": {
    "colab": {
      "name": "Access_modifiers.ipynb",
      "provenance": [],
      "collapsed_sections": [],
      "authorship_tag": "ABX9TyPK1BM0ufMI++IguuleZC7r",
      "include_colab_link": true
    },
    "kernelspec": {
      "name": "python3",
      "display_name": "Python 3"
    },
    "language_info": {
      "name": "python"
    }
  },
  "cells": [
    {
      "cell_type": "markdown",
      "metadata": {
        "id": "view-in-github",
        "colab_type": "text"
      },
      "source": [
        "<a href=\"https://colab.research.google.com/github/sowmyakavali/Python-Practice/blob/main/Access_modifiers.ipynb\" target=\"_parent\"><img src=\"https://colab.research.google.com/assets/colab-badge.svg\" alt=\"Open In Colab\"/></a>"
      ]
    },
    {
      "cell_type": "markdown",
      "metadata": {
        "id": "ujMWJyLCxNQ4"
      },
      "source": [
        "***Access Modifiers : These are used to restrict the access of the variables & methods of class***\n",
        "\n",
        ">\n",
        "\n",
        "\n",
        "\n",
        " There are 3 types of access modifiers\n",
        "\n",
        " **1. Public** : The members of a class (variables or methods) that are declared as public are easily accessible from any part of the program. By default all members of a class are public.\n",
        "\n",
        " **2. Protected** : The members of a class (variables or methods) that are declared as protected are only accessible to a class derived from it. _ is used to represent protected members\n",
        "\n",
        "**3. Private**  : The members of a class (variables or methods) that are declared as private are  accessible within the class only. __ is used to represent protected members and it is most secure one.\n",
        "\n"
      ]
    },
    {
      "cell_type": "code",
      "metadata": {
        "id": "1WtYGDDSvM9F"
      },
      "source": [
        "# Create a class\n",
        "\n",
        "class Sample:\n",
        "\n",
        "    # Constructor\n",
        "    def __init__(self, Name, Degree, Phone, Collage):\n",
        "        # Public Variable\n",
        "        self.name = Name\n",
        "        self.degree = Degree\n",
        "        # Protected Variable\n",
        "        self._phone = Phone\n",
        "        # Private Variable\n",
        "        self.__collage = Collage\n",
        "\n",
        "    # Public method\n",
        "    def access_public_info(self):\n",
        "        print('Candidate : ', self.name)\n",
        "        print('Qualification : ', self.degree)\n",
        "\n",
        "    # Protected method\n",
        "    def _access_protected_info(self):\n",
        "        print('Contact : ', self._phone)\n",
        "\n",
        "    # Private method\n",
        "    def __access_private_info(self):\n",
        "        print('Collage : ', self.__collage)\n",
        "    # Method to access private method\n",
        "    def access_private_data(self):\n",
        "        self.__access_private_info()       "
      ],
      "execution_count": 1,
      "outputs": []
    },
    {
      "cell_type": "code",
      "metadata": {
        "id": "mKYyWbuOBWR5"
      },
      "source": [
        "data = Sample('Jack', 'B.Tech', '1234567899', 'IITM')"
      ],
      "execution_count": 2,
      "outputs": []
    },
    {
      "cell_type": "code",
      "metadata": {
        "colab": {
          "base_uri": "https://localhost:8080/"
        },
        "id": "UlsoaU9O1QrI",
        "outputId": "f78122e6-32ae-4514-b312-94b30b9f20b4"
      },
      "source": [
        "# access the Public Information\n",
        "data.access_public_info()"
      ],
      "execution_count": 3,
      "outputs": [
        {
          "output_type": "stream",
          "text": [
            "Candidate :  Jack\n",
            "Qualification :  B.Tech\n"
          ],
          "name": "stdout"
        }
      ]
    },
    {
      "cell_type": "code",
      "metadata": {
        "colab": {
          "base_uri": "https://localhost:8080/"
        },
        "id": "0YU5meT4B76C",
        "outputId": "ccce06e7-84fb-42f6-dd44-6b4675d75c49"
      },
      "source": [
        "# access the Protected Information\n",
        "data._access_protected_info()"
      ],
      "execution_count": 4,
      "outputs": [
        {
          "output_type": "stream",
          "text": [
            "Contact :  1234567899\n"
          ],
          "name": "stdout"
        }
      ]
    },
    {
      "cell_type": "markdown",
      "metadata": {
        "id": "aLajTEER9mrq"
      },
      "source": [
        "#### So here you can't access private data in usual manner. You need to define another public method to access the private data. \n",
        "\n",
        "\n",
        "> \n",
        "\n"
      ]
    },
    {
      "cell_type": "code",
      "metadata": {
        "colab": {
          "base_uri": "https://localhost:8080/",
          "height": 166
        },
        "id": "KfIi7ZjF6C11",
        "outputId": "081a20a3-7f4c-40e9-bc02-9e0eed82527d"
      },
      "source": [
        "data.__access_private_info()"
      ],
      "execution_count": 5,
      "outputs": [
        {
          "output_type": "error",
          "ename": "AttributeError",
          "evalue": "ignored",
          "traceback": [
            "\u001b[0;31m---------------------------------------------------------------------------\u001b[0m",
            "\u001b[0;31mAttributeError\u001b[0m                            Traceback (most recent call last)",
            "\u001b[0;32m<ipython-input-5-e26988896ad6>\u001b[0m in \u001b[0;36m<module>\u001b[0;34m()\u001b[0m\n\u001b[0;32m----> 1\u001b[0;31m \u001b[0mdata\u001b[0m\u001b[0;34m.\u001b[0m\u001b[0m__access_private_info\u001b[0m\u001b[0;34m(\u001b[0m\u001b[0;34m)\u001b[0m\u001b[0;34m\u001b[0m\u001b[0;34m\u001b[0m\u001b[0m\n\u001b[0m",
            "\u001b[0;31mAttributeError\u001b[0m: 'Sample' object has no attribute '__access_private_info'"
          ]
        }
      ]
    },
    {
      "cell_type": "code",
      "metadata": {
        "colab": {
          "base_uri": "https://localhost:8080/"
        },
        "id": "J2s47ezk6yHj",
        "outputId": "c08a320c-0c11-4d5f-833b-949c7ee9df68"
      },
      "source": [
        "data.access_private_data()"
      ],
      "execution_count": 6,
      "outputs": [
        {
          "output_type": "stream",
          "text": [
            "Collage :  IITM\n"
          ],
          "name": "stdout"
        }
      ]
    },
    {
      "cell_type": "markdown",
      "metadata": {
        "id": "62EeyDa4-SaA"
      },
      "source": [
        "### Different  way to access the protected and private members"
      ]
    },
    {
      "cell_type": "code",
      "metadata": {
        "id": "uQLy7Sis3lEr"
      },
      "source": [
        "\n",
        "class Subsample(Sample):\n",
        "\n",
        "   def __init__(self, Name, Degree, Phone, Collage):\n",
        "      Sample.__init__(self, Name, Degree, Phone, Collage)\n",
        "\n",
        "   # Access protected member\n",
        "   def access_protected_guy(self):\n",
        "      self._access_protected_info()\n",
        "\n",
        "   # Access private member\n",
        "   #  def access_private_guy(self):\n",
        "   #       self.__access_private_info()\n",
        "\n",
        "   def access_private_guy(self):\n",
        "        self.access_private_data()  "
      ],
      "execution_count": 7,
      "outputs": []
    },
    {
      "cell_type": "code",
      "metadata": {
        "id": "vg1gxnkm4nT1"
      },
      "source": [
        "data2 = Subsample('Raj', 'M.Tech', '1234567899', 'IITM')"
      ],
      "execution_count": 8,
      "outputs": []
    },
    {
      "cell_type": "code",
      "metadata": {
        "colab": {
          "base_uri": "https://localhost:8080/"
        },
        "id": "MiJ8Bhw92-so",
        "outputId": "efd8bb51-6b9a-46b7-ca52-5ce432315dc7"
      },
      "source": [
        "data2.access_public_info()\n",
        "data2.access_protected_guy()\n",
        "data2.access_private_guy()"
      ],
      "execution_count": 9,
      "outputs": [
        {
          "output_type": "stream",
          "text": [
            "Candidate :  Raj\n",
            "Qualification :  M.Tech\n",
            "Contact :  1234567899\n",
            "Collage :  IITM\n"
          ],
          "name": "stdout"
        }
      ]
    }
  ]
}