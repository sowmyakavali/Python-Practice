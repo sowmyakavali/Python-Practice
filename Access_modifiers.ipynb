{
  "nbformat": 4,
  "nbformat_minor": 0,
  "metadata": {
    "colab": {
      "name": "Access_modifiers.ipynb",
      "provenance": [],
      "collapsed_sections": [],
      "authorship_tag": "ABX9TyPQNlLoZJe1uc7R8p35eHAF",
      "include_colab_link": true
    },
    "kernelspec": {
      "name": "python3",
      "display_name": "Python 3"
    },
    "language_info": {
      "name": "python"
    }
  },
  "cells": [
    {
      "cell_type": "markdown",
      "metadata": {
        "id": "view-in-github",
        "colab_type": "text"
      },
      "source": [
        "<a href=\"https://colab.research.google.com/github/sowmyakavali/Python-Practice/blob/main/Access_modifiers.ipynb\" target=\"_parent\"><img src=\"https://colab.research.google.com/assets/colab-badge.svg\" alt=\"Open In Colab\"/></a>"
      ]
    },
    {
      "cell_type": "markdown",
      "metadata": {
        "id": "ujMWJyLCxNQ4"
      },
      "source": [
        "***Access Modifiers : These are used to restrict the access of the variables & methods of class***\n",
        "\n",
        ">\n",
        "\n",
        "\n",
        "\n",
        " There are 3 types of access modifiers\n",
        "\n",
        " **1. Public** : The members of a class (variables or methods) that are declared as public are easily accessible from any part of the program. By default all members of a class are public.\n",
        "\n",
        " **2. Protected** : The members of a class (variables or methods) that are declared as protected are only accessible to a class derived from it. _ is used to represent protected members\n",
        "\n",
        "**3. Private**  : The members of a class (variables or methods) that are declared as private are  accessible within the class only. __ is used to represent protected members and it is most secure one.\n",
        "\n"
      ]
    },
    {
      "cell_type": "code",
      "metadata": {
        "id": "1WtYGDDSvM9F"
      },
      "source": [
        "# Create a class\n",
        "\n",
        "class Sample:\n",
        "\n",
        "    # Constructor\n",
        "    def __init__(self, Name, Degree, Phone, Collage):\n",
        "        # Public Variable\n",
        "        self.name = Name\n",
        "        self.degree = Degree\n",
        "        # Protected Variable\n",
        "        self._phone = Phone\n",
        "        # Private Variable\n",
        "        self.__collage = Collage\n",
        "\n",
        "    # Public method\n",
        "    def access_public_info(self):\n",
        "        print('Candidate : ', self.name)\n",
        "        print('Qualification : ', self.degree)\n",
        "\n",
        "    # Protected method\n",
        "    def _access_protected_info(self):\n",
        "        print('Contact : ', self._phone)\n",
        "\n",
        "    # Private method\n",
        "    def __access_private_info(self):\n",
        "        print('Collage : ', self.__collage)\n",
        "    # Method to access private method\n",
        "    def access_private_data(self):\n",
        "        self.__access_private_info()       "
      ],
      "execution_count": 1,
      "outputs": []
    },
    {
      "cell_type": "code",
      "metadata": {
        "id": "mKYyWbuOBWR5"
      },
      "source": [
        "data = Sample('Jack', 'B.Tech', '1234567899', 'IITM')"
      ],
      "execution_count": 2,
      "outputs": []
    },
    {
      "cell_type": "code",
      "metadata": {
        "colab": {
          "base_uri": "https://localhost:8080/"
        },
        "id": "UlsoaU9O1QrI",
        "outputId": "99a8eb77-e804-4ded-cf42-42f7552fc459"
      },
      "source": [
        "# access the Public Information\n",
        "data.access_public_info()"
      ],
      "execution_count": 3,
      "outputs": [
        {
          "output_type": "stream",
          "text": [
            "Candidate :  Jack\n",
            "Qualification :  B.Tech\n"
          ],
          "name": "stdout"
        }
      ]
    },
    {
      "cell_type": "code",
      "metadata": {
        "colab": {
          "base_uri": "https://localhost:8080/"
        },
        "id": "0YU5meT4B76C",
        "outputId": "8073541e-f59d-447a-fbde-fc2cd7925e4a"
      },
      "source": [
        "# access the Protected Information\n",
        "data._access_protected_info()"
      ],
      "execution_count": 4,
      "outputs": [
        {
          "output_type": "stream",
          "text": [
            "Contact :  1234567899\n"
          ],
          "name": "stdout"
        }
      ]
    },
    {
      "cell_type": "markdown",
      "metadata": {
        "id": "aLajTEER9mrq"
      },
      "source": [
        "#### So here you can't access private data in usual manner. You need to define another public method to access the private data. \n",
        "\n",
        "\n",
        "> \n",
        "\n"
      ]
    },
    {
      "cell_type": "code",
      "metadata": {
        "colab": {
          "base_uri": "https://localhost:8080/",
          "height": 166
        },
        "id": "KfIi7ZjF6C11",
        "outputId": "b5e5ea1c-0e4f-4e65-922c-fb28e84e546a"
      },
      "source": [
        "data.__access_private_info()"
      ],
      "execution_count": 5,
      "outputs": [
        {
          "output_type": "error",
          "ename": "AttributeError",
          "evalue": "ignored",
          "traceback": [
            "\u001b[0;31m---------------------------------------------------------------------------\u001b[0m",
            "\u001b[0;31mAttributeError\u001b[0m                            Traceback (most recent call last)",
            "\u001b[0;32m<ipython-input-5-e26988896ad6>\u001b[0m in \u001b[0;36m<module>\u001b[0;34m()\u001b[0m\n\u001b[0;32m----> 1\u001b[0;31m \u001b[0mdata\u001b[0m\u001b[0;34m.\u001b[0m\u001b[0m__access_private_info\u001b[0m\u001b[0;34m(\u001b[0m\u001b[0;34m)\u001b[0m\u001b[0;34m\u001b[0m\u001b[0;34m\u001b[0m\u001b[0m\n\u001b[0m",
            "\u001b[0;31mAttributeError\u001b[0m: 'Sample' object has no attribute '__access_private_info'"
          ]
        }
      ]
    },
    {
      "cell_type": "markdown",
      "metadata": {
        "id": "Y4Z89nv6E5pW"
      },
      "source": [
        "#### Method1"
      ]
    },
    {
      "cell_type": "code",
      "metadata": {
        "colab": {
          "base_uri": "https://localhost:8080/"
        },
        "id": "J2s47ezk6yHj",
        "outputId": "e67af022-b1bc-4a87-b219-7a783b969fca"
      },
      "source": [
        "data.access_private_data()"
      ],
      "execution_count": 6,
      "outputs": [
        {
          "output_type": "stream",
          "text": [
            "Collage :  IITM\n"
          ],
          "name": "stdout"
        }
      ]
    },
    {
      "cell_type": "markdown",
      "metadata": {
        "id": "QqbJDvgCE-dR"
      },
      "source": [
        "#### Method2"
      ]
    },
    {
      "cell_type": "code",
      "metadata": {
        "colab": {
          "base_uri": "https://localhost:8080/"
        },
        "id": "lcwcjuWhEkf-",
        "outputId": "b3248d5d-85db-47fe-b28c-745d0cea7313"
      },
      "source": [
        "dir(data)"
      ],
      "execution_count": 7,
      "outputs": [
        {
          "output_type": "execute_result",
          "data": {
            "text/plain": [
              "['_Sample__access_private_info',\n",
              " '_Sample__collage',\n",
              " '__class__',\n",
              " '__delattr__',\n",
              " '__dict__',\n",
              " '__dir__',\n",
              " '__doc__',\n",
              " '__eq__',\n",
              " '__format__',\n",
              " '__ge__',\n",
              " '__getattribute__',\n",
              " '__gt__',\n",
              " '__hash__',\n",
              " '__init__',\n",
              " '__init_subclass__',\n",
              " '__le__',\n",
              " '__lt__',\n",
              " '__module__',\n",
              " '__ne__',\n",
              " '__new__',\n",
              " '__reduce__',\n",
              " '__reduce_ex__',\n",
              " '__repr__',\n",
              " '__setattr__',\n",
              " '__sizeof__',\n",
              " '__str__',\n",
              " '__subclasshook__',\n",
              " '__weakref__',\n",
              " '_access_protected_info',\n",
              " '_phone',\n",
              " 'access_private_data',\n",
              " 'access_public_info',\n",
              " 'degree',\n",
              " 'name']"
            ]
          },
          "metadata": {
            "tags": []
          },
          "execution_count": 7
        }
      ]
    },
    {
      "cell_type": "code",
      "metadata": {
        "colab": {
          "base_uri": "https://localhost:8080/"
        },
        "id": "47WOjUUvEpxr",
        "outputId": "bb9c3ce2-1844-4af0-853e-e94495010a24"
      },
      "source": [
        "data._Sample__access_private_info()"
      ],
      "execution_count": 8,
      "outputs": [
        {
          "output_type": "stream",
          "text": [
            "Collage :  IITM\n"
          ],
          "name": "stdout"
        }
      ]
    },
    {
      "cell_type": "markdown",
      "metadata": {
        "id": "_5nJPxI9FFO-"
      },
      "source": [
        "#### Method3"
      ]
    },
    {
      "cell_type": "code",
      "metadata": {
        "colab": {
          "base_uri": "https://localhost:8080/",
          "height": 35
        },
        "id": "gy10WXUxEw1x",
        "outputId": "66fc0528-7fb4-46d6-ba37-085f89cc5aed"
      },
      "source": [
        "data._Sample__collage"
      ],
      "execution_count": 9,
      "outputs": [
        {
          "output_type": "execute_result",
          "data": {
            "application/vnd.google.colaboratory.intrinsic+json": {
              "type": "string"
            },
            "text/plain": [
              "'IITM'"
            ]
          },
          "metadata": {
            "tags": []
          },
          "execution_count": 9
        }
      ]
    },
    {
      "cell_type": "markdown",
      "metadata": {
        "id": "62EeyDa4-SaA"
      },
      "source": [
        "#### Method4\n",
        "Different  way to access the protected and private members"
      ]
    },
    {
      "cell_type": "code",
      "metadata": {
        "id": "uQLy7Sis3lEr"
      },
      "source": [
        "\n",
        "class Subsample(Sample):\n",
        "\n",
        "   def __init__(self, Name, Degree, Phone, Collage):\n",
        "      Sample.__init__(self, Name, Degree, Phone, Collage)\n",
        "\n",
        "   # Access protected member\n",
        "   def access_protected_guy(self):\n",
        "      self._access_protected_info()\n",
        "\n",
        "   # Access private member\n",
        "   #  def access_private_guy(self):\n",
        "   #       self.__access_private_info()\n",
        "\n",
        "   def access_private_guy(self):\n",
        "        self.access_private_data()  "
      ],
      "execution_count": 10,
      "outputs": []
    },
    {
      "cell_type": "code",
      "metadata": {
        "id": "vg1gxnkm4nT1"
      },
      "source": [
        "data2 = Subsample('Raj', 'M.Tech', '1234567899', 'IITM')"
      ],
      "execution_count": 11,
      "outputs": []
    },
    {
      "cell_type": "code",
      "metadata": {
        "colab": {
          "base_uri": "https://localhost:8080/"
        },
        "id": "MiJ8Bhw92-so",
        "outputId": "538c578d-12c2-4c81-b7db-1b865d5df72b"
      },
      "source": [
        "data2.access_public_info()\n",
        "data2.access_protected_guy()\n",
        "data2.access_private_guy()"
      ],
      "execution_count": 12,
      "outputs": [
        {
          "output_type": "stream",
          "text": [
            "Candidate :  Raj\n",
            "Qualification :  M.Tech\n",
            "Contact :  1234567899\n",
            "Collage :  IITM\n"
          ],
          "name": "stdout"
        }
      ]
    }
  ]
}